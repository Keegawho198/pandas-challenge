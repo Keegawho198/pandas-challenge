{
 "cells": [
  {
   "cell_type": "code",
   "execution_count": 1,
   "metadata": {},
   "outputs": [
    {
     "data": {
      "text/html": [
       "<div>\n",
       "<style scoped>\n",
       "    .dataframe tbody tr th:only-of-type {\n",
       "        vertical-align: middle;\n",
       "    }\n",
       "\n",
       "    .dataframe tbody tr th {\n",
       "        vertical-align: top;\n",
       "    }\n",
       "\n",
       "    .dataframe thead th {\n",
       "        text-align: right;\n",
       "    }\n",
       "</style>\n",
       "<table border=\"1\" class=\"dataframe\">\n",
       "  <thead>\n",
       "    <tr style=\"text-align: right;\">\n",
       "      <th></th>\n",
       "      <th>Student ID</th>\n",
       "      <th>student_name</th>\n",
       "      <th>gender</th>\n",
       "      <th>year</th>\n",
       "      <th>school_name</th>\n",
       "      <th>reading_score</th>\n",
       "      <th>maths_score</th>\n",
       "      <th>School ID</th>\n",
       "      <th>type</th>\n",
       "      <th>size</th>\n",
       "      <th>budget</th>\n",
       "    </tr>\n",
       "  </thead>\n",
       "  <tbody>\n",
       "    <tr>\n",
       "      <th>0</th>\n",
       "      <td>0</td>\n",
       "      <td>Paul Bradley</td>\n",
       "      <td>M</td>\n",
       "      <td>9</td>\n",
       "      <td>Huang High School</td>\n",
       "      <td>96</td>\n",
       "      <td>94</td>\n",
       "      <td>0</td>\n",
       "      <td>Government</td>\n",
       "      <td>2917</td>\n",
       "      <td>1910635</td>\n",
       "    </tr>\n",
       "    <tr>\n",
       "      <th>1</th>\n",
       "      <td>1</td>\n",
       "      <td>Victor Smith</td>\n",
       "      <td>M</td>\n",
       "      <td>12</td>\n",
       "      <td>Huang High School</td>\n",
       "      <td>90</td>\n",
       "      <td>43</td>\n",
       "      <td>0</td>\n",
       "      <td>Government</td>\n",
       "      <td>2917</td>\n",
       "      <td>1910635</td>\n",
       "    </tr>\n",
       "    <tr>\n",
       "      <th>2</th>\n",
       "      <td>2</td>\n",
       "      <td>Kevin Rodriguez</td>\n",
       "      <td>M</td>\n",
       "      <td>12</td>\n",
       "      <td>Huang High School</td>\n",
       "      <td>41</td>\n",
       "      <td>76</td>\n",
       "      <td>0</td>\n",
       "      <td>Government</td>\n",
       "      <td>2917</td>\n",
       "      <td>1910635</td>\n",
       "    </tr>\n",
       "    <tr>\n",
       "      <th>3</th>\n",
       "      <td>3</td>\n",
       "      <td>Richard Scott</td>\n",
       "      <td>M</td>\n",
       "      <td>12</td>\n",
       "      <td>Huang High School</td>\n",
       "      <td>89</td>\n",
       "      <td>86</td>\n",
       "      <td>0</td>\n",
       "      <td>Government</td>\n",
       "      <td>2917</td>\n",
       "      <td>1910635</td>\n",
       "    </tr>\n",
       "    <tr>\n",
       "      <th>4</th>\n",
       "      <td>4</td>\n",
       "      <td>Bonnie Ray</td>\n",
       "      <td>F</td>\n",
       "      <td>9</td>\n",
       "      <td>Huang High School</td>\n",
       "      <td>87</td>\n",
       "      <td>69</td>\n",
       "      <td>0</td>\n",
       "      <td>Government</td>\n",
       "      <td>2917</td>\n",
       "      <td>1910635</td>\n",
       "    </tr>\n",
       "    <tr>\n",
       "      <th>...</th>\n",
       "      <td>...</td>\n",
       "      <td>...</td>\n",
       "      <td>...</td>\n",
       "      <td>...</td>\n",
       "      <td>...</td>\n",
       "      <td>...</td>\n",
       "      <td>...</td>\n",
       "      <td>...</td>\n",
       "      <td>...</td>\n",
       "      <td>...</td>\n",
       "      <td>...</td>\n",
       "    </tr>\n",
       "    <tr>\n",
       "      <th>39165</th>\n",
       "      <td>39165</td>\n",
       "      <td>Donna Howard</td>\n",
       "      <td>F</td>\n",
       "      <td>12</td>\n",
       "      <td>Thomas High School</td>\n",
       "      <td>51</td>\n",
       "      <td>48</td>\n",
       "      <td>14</td>\n",
       "      <td>Independent</td>\n",
       "      <td>1635</td>\n",
       "      <td>1043130</td>\n",
       "    </tr>\n",
       "    <tr>\n",
       "      <th>39166</th>\n",
       "      <td>39166</td>\n",
       "      <td>Dawn Bell</td>\n",
       "      <td>F</td>\n",
       "      <td>10</td>\n",
       "      <td>Thomas High School</td>\n",
       "      <td>81</td>\n",
       "      <td>89</td>\n",
       "      <td>14</td>\n",
       "      <td>Independent</td>\n",
       "      <td>1635</td>\n",
       "      <td>1043130</td>\n",
       "    </tr>\n",
       "    <tr>\n",
       "      <th>39167</th>\n",
       "      <td>39167</td>\n",
       "      <td>Rebecca Tanner</td>\n",
       "      <td>F</td>\n",
       "      <td>9</td>\n",
       "      <td>Thomas High School</td>\n",
       "      <td>99</td>\n",
       "      <td>99</td>\n",
       "      <td>14</td>\n",
       "      <td>Independent</td>\n",
       "      <td>1635</td>\n",
       "      <td>1043130</td>\n",
       "    </tr>\n",
       "    <tr>\n",
       "      <th>39168</th>\n",
       "      <td>39168</td>\n",
       "      <td>Desiree Kidd</td>\n",
       "      <td>F</td>\n",
       "      <td>10</td>\n",
       "      <td>Thomas High School</td>\n",
       "      <td>72</td>\n",
       "      <td>77</td>\n",
       "      <td>14</td>\n",
       "      <td>Independent</td>\n",
       "      <td>1635</td>\n",
       "      <td>1043130</td>\n",
       "    </tr>\n",
       "    <tr>\n",
       "      <th>39169</th>\n",
       "      <td>39169</td>\n",
       "      <td>Carolyn Jackson</td>\n",
       "      <td>F</td>\n",
       "      <td>11</td>\n",
       "      <td>Thomas High School</td>\n",
       "      <td>47</td>\n",
       "      <td>62</td>\n",
       "      <td>14</td>\n",
       "      <td>Independent</td>\n",
       "      <td>1635</td>\n",
       "      <td>1043130</td>\n",
       "    </tr>\n",
       "  </tbody>\n",
       "</table>\n",
       "<p>39170 rows × 11 columns</p>\n",
       "</div>"
      ],
      "text/plain": [
       "       Student ID     student_name gender  year         school_name  \\\n",
       "0               0     Paul Bradley      M     9   Huang High School   \n",
       "1               1     Victor Smith      M    12   Huang High School   \n",
       "2               2  Kevin Rodriguez      M    12   Huang High School   \n",
       "3               3    Richard Scott      M    12   Huang High School   \n",
       "4               4       Bonnie Ray      F     9   Huang High School   \n",
       "...           ...              ...    ...   ...                 ...   \n",
       "39165       39165     Donna Howard      F    12  Thomas High School   \n",
       "39166       39166        Dawn Bell      F    10  Thomas High School   \n",
       "39167       39167   Rebecca Tanner      F     9  Thomas High School   \n",
       "39168       39168     Desiree Kidd      F    10  Thomas High School   \n",
       "39169       39169  Carolyn Jackson      F    11  Thomas High School   \n",
       "\n",
       "       reading_score  maths_score  School ID         type  size   budget  \n",
       "0                 96           94          0   Government  2917  1910635  \n",
       "1                 90           43          0   Government  2917  1910635  \n",
       "2                 41           76          0   Government  2917  1910635  \n",
       "3                 89           86          0   Government  2917  1910635  \n",
       "4                 87           69          0   Government  2917  1910635  \n",
       "...              ...          ...        ...          ...   ...      ...  \n",
       "39165             51           48         14  Independent  1635  1043130  \n",
       "39166             81           89         14  Independent  1635  1043130  \n",
       "39167             99           99         14  Independent  1635  1043130  \n",
       "39168             72           77         14  Independent  1635  1043130  \n",
       "39169             47           62         14  Independent  1635  1043130  \n",
       "\n",
       "[39170 rows x 11 columns]"
      ]
     },
     "execution_count": 1,
     "metadata": {},
     "output_type": "execute_result"
    }
   ],
   "source": [
    "# Dependencies and Setup\n",
    "from pathlib import Path\n",
    "import pandas as pd\n",
    "\n",
    "# File to Load (Remember to Change These)\n",
    "school_data_to_load = Path(\"Resources/schools_complete.csv\")\n",
    "student_data_to_load = Path(\"Resources/students_complete.csv\")\n",
    "\n",
    "# Read School and Student Data File and store into Pandas DataFrames\n",
    "school_data = pd.read_csv(school_data_to_load)\n",
    "student_data = pd.read_csv(student_data_to_load)\n",
    "\n",
    "# Combine the data into a single dataset.\n",
    "school_data_complete = pd.merge(student_data, school_data, how=\"left\", on=\"school_name\")\n",
    "school_data_complete\n"
   ]
  },
  {
   "cell_type": "markdown",
   "metadata": {},
   "source": [
    "## Local Government Area Summary"
   ]
  },
  {
   "cell_type": "code",
   "execution_count": 2,
   "metadata": {},
   "outputs": [
    {
     "data": {
      "text/plain": [
       "24649428"
      ]
     },
     "execution_count": 2,
     "metadata": {},
     "output_type": "execute_result"
    }
   ],
   "source": [
    "# Calculate the Totals (Schools and Students)\n",
    "school_count = school_data_complete['school_name'].nunique()\n",
    "student_count = school_data_complete[\"student_name\"].count()\n",
    "\n",
    "# Calculate the Total Budget\n",
    "# Did for each unique school\n",
    "# add .reset_index to add index on left.\n",
    "#total_budget = school_data_complete.groupby('school_name')['budget'].sum().reset_index()\n",
    "\n",
    "#for all schools THIS GIVES WRONG AMOUNT\n",
    "#overall_budget = school_data_complete['budget'].sum()\n",
    "\n",
    "#unique_budget_count = school_data_complete['school_name'].value_counts()\n",
    "#budget_groups = school_data_complete.groupby('budget')['school_name'].apply(list).reset_index()\n",
    "\n",
    "#first we calculate all unique values for budget, them we total all those budgets\n",
    "unique_budgets = school_data_complete['budget'].unique()\n",
    "overall_budget = unique_budgets.sum()\n",
    "\n",
    "\n",
    "#student_count\n",
    "#school_count\n",
    "#total_budget\n",
    "overall_budget\n",
    "#unique_budgets\n",
    "\n"
   ]
  },
  {
   "cell_type": "code",
   "execution_count": 3,
   "metadata": {},
   "outputs": [
    {
     "data": {
      "text/plain": [
       "70.33819249425581"
      ]
     },
     "execution_count": 3,
     "metadata": {},
     "output_type": "execute_result"
    }
   ],
   "source": [
    "# Calculate the Average Scores\n",
    "average_maths_score = school_data_complete['maths_score'].mean()\n",
    "average_reading_score = school_data_complete['reading_score'].mean()\n",
    "\n",
    "average_maths_score\n",
    "#average_reading_score\n"
   ]
  },
  {
   "cell_type": "code",
   "execution_count": 4,
   "metadata": {},
   "outputs": [
    {
     "data": {
      "text/plain": [
       "72.80827163645647"
      ]
     },
     "execution_count": 4,
     "metadata": {},
     "output_type": "execute_result"
    }
   ],
   "source": [
    "# Calculate the Percentage Pass Rates\n",
    "# check for students who passes over 50\n",
    "passing_maths_count = school_data_complete[(school_data_complete[\"maths_score\"] >= 50)].count()[\"student_name\"]\n",
    "passing_maths_percentage = passing_maths_count / float(student_count) * 100\n",
    "passing_reading_count = school_data_complete[(school_data_complete[\"reading_score\"] >= 50)].count()[\"student_name\"]\n",
    "passing_reading_percentage = passing_reading_count / float(student_count) * 100\n",
    "\n",
    "#check students who passed for both reading and maths\n",
    "passing_maths_reading_count = school_data_complete[(school_data_complete[\"maths_score\"] >= 50) & (school_data_complete[\"reading_score\"] >= 50)].count()[\"student_name\"]\n",
    "\n",
    "#Adding the counts of students who passed math and reading and subtracting those who were counted twice (those who passed both).\n",
    "# if we remove the subtract part, count will double up, counting total students that passed\n",
    "overall_passing_count = passing_maths_count + passing_reading_count - passing_maths_reading_count\n",
    "\n",
    "#percentage of students who passed/total students\n",
    "overall_passing_rate = passing_maths_reading_count / float(student_count) * 100\n",
    "\n",
    "overall_passing_rate\n",
    "#overall_passing_count\n",
    "#passing_maths_percentage\n",
    "#passing_reading_percentage"
   ]
  },
  {
   "cell_type": "code",
   "execution_count": 5,
   "metadata": {},
   "outputs": [
    {
     "data": {
      "text/html": [
       "<div>\n",
       "<style scoped>\n",
       "    .dataframe tbody tr th:only-of-type {\n",
       "        vertical-align: middle;\n",
       "    }\n",
       "\n",
       "    .dataframe tbody tr th {\n",
       "        vertical-align: top;\n",
       "    }\n",
       "\n",
       "    .dataframe thead th {\n",
       "        text-align: right;\n",
       "    }\n",
       "</style>\n",
       "<table border=\"1\" class=\"dataframe\">\n",
       "  <thead>\n",
       "    <tr style=\"text-align: right;\">\n",
       "      <th></th>\n",
       "      <th>Total Students</th>\n",
       "      <th>Total Budget</th>\n",
       "      <th>Average Math Score</th>\n",
       "      <th>Average Reading Score</th>\n",
       "      <th>% Passing Maths</th>\n",
       "      <th>% Passing Reading</th>\n",
       "      <th>% Overall Passing</th>\n",
       "    </tr>\n",
       "  </thead>\n",
       "  <tbody>\n",
       "    <tr>\n",
       "      <th>0</th>\n",
       "      <td>39,170</td>\n",
       "      <td>$24,649,428.00</td>\n",
       "      <td>70.338192</td>\n",
       "      <td>69.980138</td>\n",
       "      <td>86.078632</td>\n",
       "      <td>84.426857</td>\n",
       "      <td>72.808272</td>\n",
       "    </tr>\n",
       "  </tbody>\n",
       "</table>\n",
       "</div>"
      ],
      "text/plain": [
       "  Total Students    Total Budget  Average Math Score  Average Reading Score  \\\n",
       "0         39,170  $24,649,428.00           70.338192              69.980138   \n",
       "\n",
       "   % Passing Maths  % Passing Reading  % Overall Passing  \n",
       "0        86.078632          84.426857          72.808272  "
      ]
     },
     "execution_count": 5,
     "metadata": {},
     "output_type": "execute_result"
    }
   ],
   "source": [
    "#create dictionary\n",
    "data = {\n",
    "    \"Total Students\": [student_count],\n",
    "    \"Total Budget\": [overall_budget],\n",
    "    \"Average Math Score\": [average_maths_score],\n",
    "    \"Average Reading Score\": [average_reading_score],\n",
    "    \"% Passing Maths\": [passing_maths_percentage],\n",
    "    \"% Passing Reading\": [passing_reading_percentage],\n",
    "    \"% Overall Passing\": [overall_passing_rate]\n",
    "}\n",
    "\n",
    "# Convert to DataFrame\n",
    "area_summary = pd.DataFrame(data)\n",
    "#print(area_summary.dtypes)\n",
    "#print(area_summary[\"Total Budget\"])\n",
    "\n",
    "# Formatting\n",
    "area_summary[\"Total Students\"] = area_summary[\"Total Students\"].map(\"{:,}\".format)\n",
    "area_summary[\"Total Budget\"] = area_summary[\"Total Budget\"].map(\"${:,.2f}\".format)\n",
    "\n",
    "# Display the DataFrame\n",
    "area_summary\n"
   ]
  },
  {
   "cell_type": "markdown",
   "metadata": {},
   "source": [
    "## School Summary"
   ]
  },
  {
   "cell_type": "code",
   "execution_count": 6,
   "metadata": {},
   "outputs": [
    {
     "name": "stdout",
     "output_type": "stream",
     "text": [
      "Index(['School ID', 'school_name', 'type', 'size', 'budget'], dtype='object')\n",
      "per capita budget\n"
     ]
    }
   ],
   "source": [
    "# Use the code provided to select the type per school from school_data\n",
    "school_types = school_data.set_index([\"school_name\"])[\"type\"]\n",
    "\n",
    "#check values inside this, tried to count students per school without looking what was inside\n",
    "print(school_data.columns)\n",
    "\n",
    "\n",
    "# Calculate the total student count per school from school_data\n",
    "per_school_counts = school_data.groupby('school_name')['size'].sum().reset_index()\n",
    "#per_school_counts   .value_counts()\n",
    "\n",
    "#per_school_counts = school_data.groupby('school_name')['size'].sum().reset_index()\n",
    "\n",
    "\n",
    "#print(per_school_counts)\n",
    "\n",
    "\n",
    "# Calculate the total school budget and per capita spending per school from school_data\n",
    "per_school_budget = school_data.groupby('school_name')['budget'].sum().reset_index()\n",
    "\n",
    "#per_school_budget = school_data.groupby('school_name')['budget'].sum().reset_index()\n",
    "\n",
    "#print(per_school_budget)    \n",
    "\n",
    "#divide the total school budget by the total number of students for each school\n",
    "per_school_capita = per_school_budget['budget'] / per_school_counts['size']\n",
    "print(\"per capita budget\")\n",
    "#print(per_school_capita) #if we leave this uncommented will give error when making next dataframe\n",
    "\n",
    "#####################################\n",
    "#merge columns\n",
    "#per_school_data = pd.merge(per_school_budget, per_school_counts, on='school_name')\n",
    "# Calculate per capita spending and create a new column\n",
    "#per_school_data['school capita'] = per_school_data['budget'] / per_school_data['size']\n",
    "#per_school_data\n",
    "#####################################\n",
    "\n",
    "# Calculate the average test scores per school from school_data_complete\n",
    "per_school_maths = school_data_complete.groupby('school_name')['maths_score'].mean().reset_index()\n",
    "per_school_reading = school_data_complete.groupby('school_name')['reading_score'].mean().reset_index() \n",
    "\n",
    "#print(per_school_maths)\n",
    "#per_school_reading\n",
    "#school_types"
   ]
  },
  {
   "cell_type": "code",
   "execution_count": 7,
   "metadata": {},
   "outputs": [
    {
     "data": {
      "text/plain": [
       "school_name\n",
       "Bailey High School       3985\n",
       "Cabrera High School      1501\n",
       "Figueroa High School     1995\n",
       "Ford High School         1848\n",
       "Griffin High School      1194\n",
       "Hernandez High School    3076\n",
       "Holden High School        337\n",
       "Huang High School        1946\n",
       "Johnson High School      3199\n",
       "Pena High School          762\n",
       "Rodriguez High School    3176\n",
       "Shelton High School      1389\n",
       "Thomas High School       1136\n",
       "Wilson High School       1540\n",
       "Wright High School       1435\n",
       "dtype: int64"
      ]
     },
     "execution_count": 7,
     "metadata": {},
     "output_type": "execute_result"
    }
   ],
   "source": [
    "# Get the students who passed maths and passed reading by creating separate filtered DataFrames from school_data_complete.\n",
    "school_passing_maths = school_data_complete[school_data_complete['maths_score'] >= 50]\n",
    "school_passing_reading = school_data_complete[school_data_complete['reading_score'] >= 50]\n",
    "\n",
    "# Get the students who passed both reading and maths in a separate DataFrame from school_data_complete.\n",
    "\n",
    "# Count the number of students passing maths and reading by school\n",
    "passing_maths_count = school_passing_maths.groupby('school_name').size()\n",
    "passing_reading_count = school_passing_reading.groupby('school_name').size()\n",
    "\n",
    "#passing_maths_and_reading = school_data_complete[(school_data_complete[\"maths_score\"] >= 50) & (school_data_complete[\"reading_score\"] >= 50)].count()[\"student_name\"]\n",
    "#passing_maths_and_reading\n",
    "\n",
    "# Get the count of students who passed both subjects\n",
    "passing_both_count = school_data_complete[(school_data_complete[\"maths_score\"] >= 50) & \n",
    "                                          (school_data_complete[\"reading_score\"] >= 50)].groupby('school_name').size()\n",
    "\n",
    "passing_both_count\n",
    "#passing_maths_count\n",
    "#passing_reading_count\n",
    "\n",
    "#school_passing_maths\n",
    "#school_passing_reading\n"
   ]
  },
  {
   "cell_type": "code",
   "execution_count": 8,
   "metadata": {},
   "outputs": [
    {
     "name": "stdout",
     "output_type": "stream",
     "text": [
      "school_name\n",
      "Bailey High School       91.639871\n",
      "Cabrera High School      90.850377\n",
      "Figueroa High School     81.654798\n",
      "Ford High School         82.438846\n",
      "Griffin High School      91.212534\n",
      "Hernandez High School    80.949299\n",
      "Holden High School       89.929742\n",
      "Huang High School        81.693521\n",
      "Johnson High School      82.062592\n",
      "Pena High School         91.683992\n",
      "Rodriguez High School    90.797699\n",
      "Shelton High School      91.538898\n",
      "Thomas High School       83.853211\n",
      "Wilson High School       82.785808\n",
      "Wright High School       91.777778\n",
      "dtype: float64\n"
     ]
    }
   ],
   "source": [
    "# Total number of students per school\n",
    "per_school_counts = school_data_complete['school_name'].value_counts()\n",
    "\n",
    "#getting names of schools only\n",
    "per_school_namesOnly = school_data_complete['school_name'].unique()\n",
    "\n",
    "#print(per_school_namesOnly)\n",
    "\n",
    "#was having errors, with per school count index, it was not getting the unique values\n",
    "#index mismatched - it was not retrieving the actual school names\n",
    "#which lead to my dataframe only printing NaNs\n",
    "#fixed by adding per_school_counts = school_data_complete['school_name'].value_counts()\n",
    "\n",
    "#print(\"Passing Maths Count Index:\\n\", passing_maths_count.index)\n",
    "#print(\"Passing Reading Count Index:\\n\", passing_reading_count.index)\n",
    "#print(\"Per School Counts Index:\\n\", per_school_counts.index)\n",
    "\n",
    "# Check the output\n",
    "#print(\"Per School Counts:\\n\", per_school_counts)\n",
    "\n",
    "#  Calculate the Percentage Pass Rates\n",
    "per_school_passing_maths = (passing_maths_count / per_school_counts) * 100\n",
    "per_school_passing_reading = (passing_reading_count / per_school_counts) * 100\n",
    "\n",
    "\n",
    "overall_passing_rate = (passing_both_count / per_school_counts) * 100\n",
    "\n",
    "\n",
    "\n",
    "print(per_school_passing_maths)\n",
    "#print(\"Maths Passing rate:\\n\", per_school_passing_maths)\n",
    "#print(\"Reading Passing rate:\\n\", per_school_passing_reading)\n",
    "#per_school_passing_maths\n",
    "#per_school_counts"
   ]
  },
  {
   "cell_type": "code",
   "execution_count": 10,
   "metadata": {},
   "outputs": [
    {
     "ename": "AttributeError",
     "evalue": "'list' object has no attribute 'reindex'",
     "output_type": "error",
     "traceback": [
      "\u001b[1;31m---------------------------------------------------------------------------\u001b[0m",
      "\u001b[1;31mAttributeError\u001b[0m                            Traceback (most recent call last)",
      "Cell \u001b[1;32mIn[10], line 14\u001b[0m\n\u001b[0;32m     11\u001b[0m per_school_reading \u001b[38;5;241m=\u001b[39m school_data_complete\u001b[38;5;241m.\u001b[39mgroupby(\u001b[38;5;124m'\u001b[39m\u001b[38;5;124mschool_name\u001b[39m\u001b[38;5;124m'\u001b[39m)[\u001b[38;5;124m'\u001b[39m\u001b[38;5;124mreading_score\u001b[39m\u001b[38;5;124m'\u001b[39m]\u001b[38;5;241m.\u001b[39mmean()\u001b[38;5;241m.\u001b[39mreindex(per_school_namesOnly)\u001b[38;5;241m.\u001b[39mfillna(\u001b[38;5;241m0\u001b[39m)\u001b[38;5;241m.\u001b[39mtolist()\n\u001b[0;32m     13\u001b[0m \u001b[38;5;66;03m#per_school_capita = per_school_passing_maths.reindex(per_school_namesOnly).tolist()\u001b[39;00m\n\u001b[1;32m---> 14\u001b[0m per_school_passing_maths \u001b[38;5;241m=\u001b[39m \u001b[43mper_school_passing_maths\u001b[49m\u001b[38;5;241;43m.\u001b[39;49m\u001b[43mreindex\u001b[49m(per_school_namesOnly)\u001b[38;5;241m.\u001b[39mfillna(\u001b[38;5;241m0\u001b[39m)\u001b[38;5;241m.\u001b[39mtolist()\n\u001b[0;32m     15\u001b[0m per_school_passing_reading \u001b[38;5;241m=\u001b[39m per_school_passing_reading\u001b[38;5;241m.\u001b[39mreindex(per_school_namesOnly)\u001b[38;5;241m.\u001b[39mfillna(\u001b[38;5;241m0\u001b[39m)\u001b[38;5;241m.\u001b[39mtolist()\n\u001b[0;32m     16\u001b[0m overall_passing_rate \u001b[38;5;241m=\u001b[39m overall_passing_rate\u001b[38;5;241m.\u001b[39mreindex(per_school_namesOnly)\u001b[38;5;241m.\u001b[39mfillna(\u001b[38;5;241m0\u001b[39m)\u001b[38;5;241m.\u001b[39mtolist()\n",
      "\u001b[1;31mAttributeError\u001b[0m: 'list' object has no attribute 'reindex'"
     ]
    }
   ],
   "source": [
    "#print(per_school_capita)\n",
    "#per_school_capita not in correct order\n",
    "\n",
    "#BE CAREFUL, THIS PART GET ERRORS ALOT, If running this section, MAKE SURE TO RESTART KERNEL.\n",
    "\n",
    "# Create lists for the summary DataFrame\n",
    "per_school_counts = school_data_complete['school_name'].value_counts().reindex(per_school_namesOnly).fillna(0).astype(int).tolist()\n",
    "per_school_budget = school_data.groupby('school_name')['budget'].sum().reindex(per_school_namesOnly).fillna(0).tolist()\n",
    "#per_school_capita = per_school_budget / per_school_counts  # This will need to be adjusted to avoid division by zero\n",
    "per_school_maths = school_data_complete.groupby('school_name')['maths_score'].mean().reindex(per_school_namesOnly).fillna(0).tolist()\n",
    "per_school_reading = school_data_complete.groupby('school_name')['reading_score'].mean().reindex(per_school_namesOnly).fillna(0).tolist()\n",
    "\n",
    "#per_school_capita = per_school_passing_maths.reindex(per_school_namesOnly).tolist()\n",
    "per_school_passing_maths = per_school_passing_maths.reindex(per_school_namesOnly).fillna(0).tolist()\n",
    "per_school_passing_reading = per_school_passing_reading.reindex(per_school_namesOnly).fillna(0).tolist()\n",
    "overall_passing_rate = overall_passing_rate.reindex(per_school_namesOnly).fillna(0).tolist()\n",
    "\n",
    "#per_school_passing_maths = (passing_maths_count / per_school_counts) * 100\n",
    "#per_school_passing_reading = (passing_reading_count / per_school_counts) * 100\n",
    "\n",
    "\n",
    "\n",
    "data = {\n",
    "    \"School Name\": per_school_namesOnly,  \n",
    "    \"School Type\": school_types,  # Ensure this is a list of the same length\n",
    "    \"Total Students\": per_school_counts,\n",
    "    \"Total School Budget\": per_school_budget,\n",
    "    \"Per Student Budget\": per_school_capita.tolist(),  # Convert to list\n",
    "    \"Average Maths Score\": per_school_maths,\n",
    "    \"Average Reading Score\": per_school_reading,\n",
    "    \"% Passing Maths\": per_school_passing_maths,  # Convert to list\n",
    "    \"% Passing Reading\": per_school_passing_reading,\n",
    "    \"% Overall passing\": overall_passing_rate\n",
    "}\n",
    "\n",
    "# Convert to DataFrame\n",
    "per_school_summary = pd.DataFrame(data)\n",
    "\n",
    "per_school_summary.index = per_school_summary.index.str.strip().str.lower()  # Standardize school names\n",
    "\n",
    "\n",
    "# Set the index to 'School Name' and sort\n",
    "per_school_summary.set_index('School Name', inplace=True)\n",
    "per_school_summary.sort_index(ascending=True, inplace=True)\n",
    "\n",
    "\n",
    "# Formatting\n",
    "per_school_summary[\"Total School Budget\"] = per_school_summary[\"Total School Budget\"].map(\"${:,.2f}\".format)\n",
    "per_school_summary[\"Per Student Budget\"] = per_school_summary[\"Per Student Budget\"].map(\"${:,.2f}\".format)\n",
    "\n",
    "\n",
    "per_school_summary\n",
    "\n",
    "\n",
    "# Display the DataFrame\n",
    "#print(per_school_summary)"
   ]
  },
  {
   "cell_type": "markdown",
   "metadata": {},
   "source": [
    "## Top Performing Schools (By % Overall Passing)"
   ]
  },
  {
   "cell_type": "code",
   "execution_count": null,
   "metadata": {
    "scrolled": true
   },
   "outputs": [],
   "source": [
    "# Sort and show top five schools\n",
    "top_schools =\n",
    "top_schools.head(5)\n"
   ]
  },
  {
   "cell_type": "markdown",
   "metadata": {},
   "source": [
    "## Bottom Performing Schools (By % Overall Passing)"
   ]
  },
  {
   "cell_type": "code",
   "execution_count": null,
   "metadata": {},
   "outputs": [],
   "source": [
    "# Sort and show bottom five schools\n",
    "bottom_schools =\n",
    "bottom_schools.head(5)\n"
   ]
  },
  {
   "cell_type": "markdown",
   "metadata": {
    "collapsed": true,
    "jupyter": {
     "outputs_hidden": true
    }
   },
   "source": [
    "## Maths Scores by Year"
   ]
  },
  {
   "cell_type": "code",
   "execution_count": null,
   "metadata": {},
   "outputs": [],
   "source": [
    "# Create data series of scores by year levels using conditionals\n",
    "year_nine = school_data_complete[(school_data_complete[\"year\"] == 9)]\n",
    "year_ten = school_data_complete[(school_data_complete[\"year\"] == 10)]\n",
    "year_eleven = school_data_complete[(school_data_complete[\"year\"] == 11)]\n",
    "year_twelve = school_data_complete[(school_data_complete[\"year\"] == 12)]\n",
    "\n",
    "# Group each by school name\n",
    "year_nine_scores =\n",
    "year_ten_scores =\n",
    "year_eleven_scores =\n",
    "year_twelve_scores =\n",
    "\n",
    "# Combine series into single DataFrame\n",
    "maths_scores_by_year =\n",
    "\n",
    "# Minor data wrangling\n",
    "maths_scores_by_year.index.name = None\n",
    "\n",
    "# Display the DataFrame\n",
    "maths_scores_by_year\n"
   ]
  },
  {
   "cell_type": "markdown",
   "metadata": {},
   "source": [
    "## Reading Score by Year"
   ]
  },
  {
   "cell_type": "code",
   "execution_count": null,
   "metadata": {},
   "outputs": [],
   "source": [
    "# Create data series of scores by year levels using conditionals\n",
    "year_nine = school_data_complete[(school_data_complete[\"year\"] == 9)]\n",
    "year_ten = school_data_complete[(school_data_complete[\"year\"] == 10)]\n",
    "year_eleven = school_data_complete[(school_data_complete[\"year\"] == 11)]\n",
    "year_twelve = school_data_complete[(school_data_complete[\"year\"] == 12)]\n",
    "\n",
    "# Group each by school name\n",
    "year_nine_scores =\n",
    "year_ten_scores =\n",
    "year_eleven_scores =\n",
    "year_twelve_scores =\n",
    "\n",
    "# Combine series into single DataFrame\n",
    "reading_scores_by_year =\n",
    "\n",
    "# Minor data wrangling\n",
    "reading_scores_by_year.index.name = None\n",
    "\n",
    "# Display the DataFrame\n",
    "reading_scores_by_year\n"
   ]
  },
  {
   "cell_type": "markdown",
   "metadata": {},
   "source": [
    "## Scores by School Spending"
   ]
  },
  {
   "cell_type": "code",
   "execution_count": null,
   "metadata": {},
   "outputs": [],
   "source": [
    "# Establish the bins\n",
    "spending_bins = [0, 585, 630, 645, 680]\n",
    "group_names = [\"<$585\", \"$585-630\", \"$630-645\", \"$645-680\"]\n"
   ]
  },
  {
   "cell_type": "code",
   "execution_count": null,
   "metadata": {},
   "outputs": [],
   "source": [
    "# Create a copy of the school summary for later aggregations\n",
    "# This step can be skipped but it's best to make a copy.\n",
    "school_spending_df = per_school_summary.copy()\n"
   ]
  },
  {
   "cell_type": "code",
   "execution_count": null,
   "metadata": {},
   "outputs": [],
   "source": [
    "# Use `pd.cut` on the per_school_capita Series from earlier to categorise per student spending based on the bins.\n",
    "school_spending_df[\"Spending Ranges (Per Student)\"] =\n",
    "\n",
    "# Convert Spending Ranges (Per Student) to a string\n",
    "school_spending_df[\"Spending Ranges (Per Student)\"] = school_spending_df[\"Spending Ranges (Per Student)\"].astype(str)\n",
    "school_spending_df\n"
   ]
  },
  {
   "cell_type": "code",
   "execution_count": null,
   "metadata": {},
   "outputs": [],
   "source": [
    "#  Calculate averages for the desired columns.\n",
    "spending_maths_scores = school_spending_df.groupby([\"Spending Ranges (Per Student)\"])[\"Average Maths Score\"].mean()\n",
    "spending_reading_scores = school_spending_df.groupby([\"Spending Ranges (Per Student)\"])[\"Average Reading Score\"].mean()\n",
    "spending_passing_maths = school_spending_df.groupby([\"Spending Ranges (Per Student)\"])[\"% Passing Maths\"].mean()\n",
    "spending_passing_reading = school_spending_df.groupby([\"Spending Ranges (Per Student)\"])[\"% Passing Reading\"].mean()\n",
    "overall_passing_spending = school_spending_df.groupby([\"Spending Ranges (Per Student)\"])[\"% Overall Passing\"].mean()\n"
   ]
  },
  {
   "cell_type": "code",
   "execution_count": null,
   "metadata": {},
   "outputs": [],
   "source": [
    "# Assemble into DataFrame\n",
    "spending_summary =\n",
    "\n",
    "# Display results\n",
    "spending_summary\n"
   ]
  },
  {
   "cell_type": "markdown",
   "metadata": {},
   "source": [
    "## Scores by School Size"
   ]
  },
  {
   "cell_type": "code",
   "execution_count": null,
   "metadata": {},
   "outputs": [],
   "source": [
    "# Establish the bins.\n",
    "size_bins = [0, 1000, 2000, 5000]\n",
    "group_names = [\"Small (<1000)\", \"Medium (1000-2000)\", \"Large (2000-5000)\"]\n"
   ]
  },
  {
   "cell_type": "code",
   "execution_count": null,
   "metadata": {},
   "outputs": [],
   "source": [
    "# Create a copy of the school summary for later aggregations\n",
    "# This step can be skipped but it's best to make a copy.\n",
    "school_size_df = per_school_summary.copy()\n"
   ]
  },
  {
   "cell_type": "code",
   "execution_count": null,
   "metadata": {},
   "outputs": [],
   "source": [
    "# Use `pd.cut` on the per_school_counts Series from earlier to categorise school size based on the bins.\n",
    "school_size_df[\"School Size\"] =\n",
    "\n",
    "# Convert School Size to a string\n",
    "school_size_df[\"School Size\"] = school_size_df[\"School Size\"].astype(str)\n",
    "school_size_df"
   ]
  },
  {
   "cell_type": "code",
   "execution_count": null,
   "metadata": {},
   "outputs": [],
   "source": [
    "# Calculate averages for the desired columns.\n",
    "size_maths_scores = school_size_df.groupby([\"School Size\"])[\"Average Maths Score\"].mean()\n",
    "size_reading_scores = school_size_df.groupby([\"School Size\"])[\"Average Reading Score\"].mean()\n",
    "size_passing_maths = school_size_df.groupby([\"School Size\"])[\"% Passing Maths\"].mean()\n",
    "size_passing_reading = school_size_df.groupby([\"School Size\"])[\"% Passing Reading\"].mean()\n",
    "size_overall_passing = school_size_df.groupby([\"School Size\"])[\"% Overall Passing\"].mean()\n"
   ]
  },
  {
   "cell_type": "code",
   "execution_count": null,
   "metadata": {
    "scrolled": true
   },
   "outputs": [],
   "source": [
    "# Assemble into DataFrame\n",
    "size_summary =\n",
    "\n",
    "# Display results\n",
    "size_summary\n"
   ]
  },
  {
   "cell_type": "markdown",
   "metadata": {},
   "source": [
    "## Scores by School Type"
   ]
  },
  {
   "cell_type": "code",
   "execution_count": null,
   "metadata": {},
   "outputs": [],
   "source": [
    "# Create new series using groupby for:\n",
    "# Type | Average Maths Score | Average Reading Score | % Passing Maths | % Passing Reading | % Overall Passing\n",
    "\n",
    "type_maths_scores = per_school_summary.groupby([\"School Type\"])[\"Average Maths Score\"].mean()\n",
    "type_reading_scores = per_school_summary.groupby([\"School Type\"])[\"Average Reading Score\"].mean()\n",
    "type_passing_maths = per_school_summary.groupby([\"School Type\"])[\"% Passing Maths\"].mean()\n",
    "type_passing_reading = per_school_summary.groupby([\"School Type\"])[\"% Passing Reading\"].mean()\n",
    "type_overall_passing = per_school_summary.groupby([\"School Type\"])[\"% Overall Passing\"].mean()\n"
   ]
  },
  {
   "cell_type": "code",
   "execution_count": null,
   "metadata": {},
   "outputs": [],
   "source": [
    "# Assemble into DataFrame\n",
    "type_summary =\n",
    "\n",
    "# Display results\n",
    "type_summary\n"
   ]
  },
  {
   "cell_type": "code",
   "execution_count": null,
   "metadata": {},
   "outputs": [],
   "source": []
  }
 ],
 "metadata": {
  "anaconda-cloud": {},
  "kernel_info": {
   "name": "python3"
  },
  "kernelspec": {
   "display_name": "Python 3 (ipykernel)",
   "language": "python",
   "name": "python3"
  },
  "language_info": {
   "codemirror_mode": {
    "name": "ipython",
    "version": 3
   },
   "file_extension": ".py",
   "mimetype": "text/x-python",
   "name": "python",
   "nbconvert_exporter": "python",
   "pygments_lexer": "ipython3",
   "version": "3.10.14"
  },
  "latex_envs": {
   "LaTeX_envs_menu_present": true,
   "autoclose": false,
   "autocomplete": true,
   "bibliofile": "biblio.bib",
   "cite_by": "apalike",
   "current_citInitial": 1,
   "eqLabelWithNumbers": true,
   "eqNumInitial": 1,
   "hotkeys": {
    "equation": "Ctrl-E",
    "itemize": "Ctrl-I"
   },
   "labels_anchors": false,
   "latex_user_defs": false,
   "report_style_numbering": false,
   "user_envs_cfg": false
  },
  "nteract": {
   "version": "0.8.4"
  }
 },
 "nbformat": 4,
 "nbformat_minor": 4
}
